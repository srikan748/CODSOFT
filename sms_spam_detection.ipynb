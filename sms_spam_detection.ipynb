{
 "cells": [
  {
   "cell_type": "markdown",
   "id": "4a062a74-2512-4e94-874b-e0fab6ace919",
   "metadata": {},
   "source": [
    "1.READ DATA"
   ]
  },
  {
   "cell_type": "code",
   "execution_count": 20,
   "id": "271de4b2-bf83-424e-a006-8a2bcfdec6ec",
   "metadata": {},
   "outputs": [
    {
     "data": {
      "text/html": [
       "<div>\n",
       "<style scoped>\n",
       "    .dataframe tbody tr th:only-of-type {\n",
       "        vertical-align: middle;\n",
       "    }\n",
       "\n",
       "    .dataframe tbody tr th {\n",
       "        vertical-align: top;\n",
       "    }\n",
       "\n",
       "    .dataframe thead th {\n",
       "        text-align: right;\n",
       "    }\n",
       "</style>\n",
       "<table border=\"1\" class=\"dataframe\">\n",
       "  <thead>\n",
       "    <tr style=\"text-align: right;\">\n",
       "      <th></th>\n",
       "      <th>Status</th>\n",
       "      <th>Text1</th>\n",
       "      <th>Text2</th>\n",
       "      <th>Text3</th>\n",
       "      <th>Text4</th>\n",
       "    </tr>\n",
       "  </thead>\n",
       "  <tbody>\n",
       "    <tr>\n",
       "      <th>0</th>\n",
       "      <td>ham</td>\n",
       "      <td>Go until jurong point, crazy.. Available only ...</td>\n",
       "      <td>NaN</td>\n",
       "      <td>NaN</td>\n",
       "      <td>NaN</td>\n",
       "    </tr>\n",
       "    <tr>\n",
       "      <th>1</th>\n",
       "      <td>ham</td>\n",
       "      <td>Ok lar... Joking wif u oni...</td>\n",
       "      <td>NaN</td>\n",
       "      <td>NaN</td>\n",
       "      <td>NaN</td>\n",
       "    </tr>\n",
       "    <tr>\n",
       "      <th>2</th>\n",
       "      <td>spam</td>\n",
       "      <td>Free entry in 2 a wkly comp to win FA Cup fina...</td>\n",
       "      <td>NaN</td>\n",
       "      <td>NaN</td>\n",
       "      <td>NaN</td>\n",
       "    </tr>\n",
       "    <tr>\n",
       "      <th>3</th>\n",
       "      <td>ham</td>\n",
       "      <td>U dun say so early hor... U c already then say...</td>\n",
       "      <td>NaN</td>\n",
       "      <td>NaN</td>\n",
       "      <td>NaN</td>\n",
       "    </tr>\n",
       "    <tr>\n",
       "      <th>4</th>\n",
       "      <td>ham</td>\n",
       "      <td>Nah I don't think he goes to usf, he lives aro...</td>\n",
       "      <td>NaN</td>\n",
       "      <td>NaN</td>\n",
       "      <td>NaN</td>\n",
       "    </tr>\n",
       "    <tr>\n",
       "      <th>...</th>\n",
       "      <td>...</td>\n",
       "      <td>...</td>\n",
       "      <td>...</td>\n",
       "      <td>...</td>\n",
       "      <td>...</td>\n",
       "    </tr>\n",
       "    <tr>\n",
       "      <th>5567</th>\n",
       "      <td>spam</td>\n",
       "      <td>This is the 2nd time we have tried 2 contact u...</td>\n",
       "      <td>NaN</td>\n",
       "      <td>NaN</td>\n",
       "      <td>NaN</td>\n",
       "    </tr>\n",
       "    <tr>\n",
       "      <th>5568</th>\n",
       "      <td>ham</td>\n",
       "      <td>Will Ì_ b going to esplanade fr home?</td>\n",
       "      <td>NaN</td>\n",
       "      <td>NaN</td>\n",
       "      <td>NaN</td>\n",
       "    </tr>\n",
       "    <tr>\n",
       "      <th>5569</th>\n",
       "      <td>ham</td>\n",
       "      <td>Pity, * was in mood for that. So...any other s...</td>\n",
       "      <td>NaN</td>\n",
       "      <td>NaN</td>\n",
       "      <td>NaN</td>\n",
       "    </tr>\n",
       "    <tr>\n",
       "      <th>5570</th>\n",
       "      <td>ham</td>\n",
       "      <td>The guy did some bitching but I acted like i'd...</td>\n",
       "      <td>NaN</td>\n",
       "      <td>NaN</td>\n",
       "      <td>NaN</td>\n",
       "    </tr>\n",
       "    <tr>\n",
       "      <th>5571</th>\n",
       "      <td>ham</td>\n",
       "      <td>Rofl. Its true to its name</td>\n",
       "      <td>NaN</td>\n",
       "      <td>NaN</td>\n",
       "      <td>NaN</td>\n",
       "    </tr>\n",
       "  </tbody>\n",
       "</table>\n",
       "<p>5572 rows × 5 columns</p>\n",
       "</div>"
      ],
      "text/plain": [
       "     Status                                              Text1 Text2 Text3  \\\n",
       "0       ham  Go until jurong point, crazy.. Available only ...   NaN   NaN   \n",
       "1       ham                      Ok lar... Joking wif u oni...   NaN   NaN   \n",
       "2      spam  Free entry in 2 a wkly comp to win FA Cup fina...   NaN   NaN   \n",
       "3       ham  U dun say so early hor... U c already then say...   NaN   NaN   \n",
       "4       ham  Nah I don't think he goes to usf, he lives aro...   NaN   NaN   \n",
       "...     ...                                                ...   ...   ...   \n",
       "5567   spam  This is the 2nd time we have tried 2 contact u...   NaN   NaN   \n",
       "5568    ham              Will Ì_ b going to esplanade fr home?   NaN   NaN   \n",
       "5569    ham  Pity, * was in mood for that. So...any other s...   NaN   NaN   \n",
       "5570    ham  The guy did some bitching but I acted like i'd...   NaN   NaN   \n",
       "5571    ham                         Rofl. Its true to its name   NaN   NaN   \n",
       "\n",
       "     Text4  \n",
       "0      NaN  \n",
       "1      NaN  \n",
       "2      NaN  \n",
       "3      NaN  \n",
       "4      NaN  \n",
       "...    ...  \n",
       "5567   NaN  \n",
       "5568   NaN  \n",
       "5569   NaN  \n",
       "5570   NaN  \n",
       "5571   NaN  \n",
       "\n",
       "[5572 rows x 5 columns]"
      ]
     },
     "execution_count": 20,
     "metadata": {},
     "output_type": "execute_result"
    }
   ],
   "source": [
    "import pandas as pd                                         #importing pandas for handling dataframe\n",
    "data = pd.read_csv(\"spam.csv\", encoding = 'ISO-8859-1')      #read data with iso encoding\n",
    "data.rename(columns = {\"v1\": \"Status\",\"v2\": \"Text1\",\"Unnamed: 2\":\"Text2\",\"Unnamed: 3\":\"Text3\",\"Unnamed: 4\":\"Text4\"}, inplace=True) #rename columns after read data\n",
    "data                                                         #display data"
   ]
  },
  {
   "cell_type": "markdown",
   "id": "73dc16ae-4f5f-4605-b301-82ab48307464",
   "metadata": {},
   "source": [
    "2.EDA"
   ]
  },
  {
   "cell_type": "code",
   "execution_count": 21,
   "id": "5b619e38-cf9d-4935-bdf2-e64cec306cdd",
   "metadata": {},
   "outputs": [
    {
     "data": {
      "text/plain": [
       "Status       0\n",
       "Text1        0\n",
       "Text2     5522\n",
       "Text3     5560\n",
       "Text4     5566\n",
       "dtype: int64"
      ]
     },
     "execution_count": 21,
     "metadata": {},
     "output_type": "execute_result"
    }
   ],
   "source": [
    "data.isnull().sum()  #check for null values in data"
   ]
  },
  {
   "cell_type": "code",
   "execution_count": 22,
   "id": "c3121816-68cb-42fb-9deb-bbb5061faebe",
   "metadata": {},
   "outputs": [
    {
     "data": {
      "text/html": [
       "<div>\n",
       "<style scoped>\n",
       "    .dataframe tbody tr th:only-of-type {\n",
       "        vertical-align: middle;\n",
       "    }\n",
       "\n",
       "    .dataframe tbody tr th {\n",
       "        vertical-align: top;\n",
       "    }\n",
       "\n",
       "    .dataframe thead th {\n",
       "        text-align: right;\n",
       "    }\n",
       "</style>\n",
       "<table border=\"1\" class=\"dataframe\">\n",
       "  <thead>\n",
       "    <tr style=\"text-align: right;\">\n",
       "      <th></th>\n",
       "      <th>Status</th>\n",
       "      <th>Text</th>\n",
       "    </tr>\n",
       "  </thead>\n",
       "  <tbody>\n",
       "    <tr>\n",
       "      <th>0</th>\n",
       "      <td>ham</td>\n",
       "      <td>Go until jurong point, crazy.. Available only ...</td>\n",
       "    </tr>\n",
       "    <tr>\n",
       "      <th>1</th>\n",
       "      <td>ham</td>\n",
       "      <td>Ok lar... Joking wif u oni...</td>\n",
       "    </tr>\n",
       "    <tr>\n",
       "      <th>2</th>\n",
       "      <td>spam</td>\n",
       "      <td>Free entry in 2 a wkly comp to win FA Cup fina...</td>\n",
       "    </tr>\n",
       "    <tr>\n",
       "      <th>3</th>\n",
       "      <td>ham</td>\n",
       "      <td>U dun say so early hor... U c already then say...</td>\n",
       "    </tr>\n",
       "    <tr>\n",
       "      <th>4</th>\n",
       "      <td>ham</td>\n",
       "      <td>Nah I don't think he goes to usf, he lives aro...</td>\n",
       "    </tr>\n",
       "    <tr>\n",
       "      <th>...</th>\n",
       "      <td>...</td>\n",
       "      <td>...</td>\n",
       "    </tr>\n",
       "    <tr>\n",
       "      <th>5567</th>\n",
       "      <td>spam</td>\n",
       "      <td>This is the 2nd time we have tried 2 contact u...</td>\n",
       "    </tr>\n",
       "    <tr>\n",
       "      <th>5568</th>\n",
       "      <td>ham</td>\n",
       "      <td>Will Ì_ b going to esplanade fr home?</td>\n",
       "    </tr>\n",
       "    <tr>\n",
       "      <th>5569</th>\n",
       "      <td>ham</td>\n",
       "      <td>Pity, * was in mood for that. So...any other s...</td>\n",
       "    </tr>\n",
       "    <tr>\n",
       "      <th>5570</th>\n",
       "      <td>ham</td>\n",
       "      <td>The guy did some bitching but I acted like i'd...</td>\n",
       "    </tr>\n",
       "    <tr>\n",
       "      <th>5571</th>\n",
       "      <td>ham</td>\n",
       "      <td>Rofl. Its true to its name</td>\n",
       "    </tr>\n",
       "  </tbody>\n",
       "</table>\n",
       "<p>5572 rows × 2 columns</p>\n",
       "</div>"
      ],
      "text/plain": [
       "     Status                                               Text\n",
       "0       ham  Go until jurong point, crazy.. Available only ...\n",
       "1       ham                Ok lar... Joking wif u oni...      \n",
       "2      spam  Free entry in 2 a wkly comp to win FA Cup fina...\n",
       "3       ham  U dun say so early hor... U c already then say...\n",
       "4       ham  Nah I don't think he goes to usf, he lives aro...\n",
       "...     ...                                                ...\n",
       "5567   spam  This is the 2nd time we have tried 2 contact u...\n",
       "5568    ham        Will Ì_ b going to esplanade fr home?      \n",
       "5569    ham  Pity, * was in mood for that. So...any other s...\n",
       "5570    ham  The guy did some bitching but I acted like i'd...\n",
       "5571    ham                   Rofl. Its true to its name      \n",
       "\n",
       "[5572 rows x 2 columns]"
      ]
     },
     "execution_count": 22,
     "metadata": {},
     "output_type": "execute_result"
    }
   ],
   "source": [
    "#fill null values with \" \" and combine all columns except status column to new column name \"Text\"\n",
    "data['Text'] = data['Text1'].fillna(\" \").astype(str)+\" \"+data['Text2'].fillna(\" \").astype(str)+\" \"+data['Text3'].fillna(\" \").astype(str)+\" \"+data['Text4'].fillna(\" \").astype(str)\n",
    "data = data.drop(columns=['Text1','Text2','Text3','Text4'])#after combining the \"Text\" drop column : 'Text1','Text2','Text3','Text4'\n",
    "data"
   ]
  },
  {
   "cell_type": "code",
   "execution_count": 23,
   "id": "e5ed0900-4190-4e47-97b8-ff828713804b",
   "metadata": {},
   "outputs": [
    {
     "data": {
      "text/plain": [
       "Status    0\n",
       "Text      0\n",
       "dtype: int64"
      ]
     },
     "execution_count": 23,
     "metadata": {},
     "output_type": "execute_result"
    }
   ],
   "source": [
    "data.isnull().sum()  #check for null values in data"
   ]
  },
  {
   "cell_type": "code",
   "execution_count": 24,
   "id": "eee08259-1b5a-4967-abf6-424df95cbe2d",
   "metadata": {},
   "outputs": [
    {
     "name": "stdout",
     "output_type": "stream",
     "text": [
      "<class 'pandas.core.frame.DataFrame'>\n",
      "RangeIndex: 5572 entries, 0 to 5571\n",
      "Data columns (total 2 columns):\n",
      " #   Column  Non-Null Count  Dtype \n",
      "---  ------  --------------  ----- \n",
      " 0   Status  5572 non-null   object\n",
      " 1   Text    5572 non-null   object\n",
      "dtypes: object(2)\n",
      "memory usage: 87.2+ KB\n"
     ]
    }
   ],
   "source": [
    "data.info()             #to get data information"
   ]
  },
  {
   "cell_type": "code",
   "execution_count": 25,
   "id": "ed9ae072-93e7-4d72-8953-14e92521bf27",
   "metadata": {},
   "outputs": [
    {
     "data": {
      "text/html": [
       "<div>\n",
       "<style scoped>\n",
       "    .dataframe tbody tr th:only-of-type {\n",
       "        vertical-align: middle;\n",
       "    }\n",
       "\n",
       "    .dataframe tbody tr th {\n",
       "        vertical-align: top;\n",
       "    }\n",
       "\n",
       "    .dataframe thead th {\n",
       "        text-align: right;\n",
       "    }\n",
       "</style>\n",
       "<table border=\"1\" class=\"dataframe\">\n",
       "  <thead>\n",
       "    <tr style=\"text-align: right;\">\n",
       "      <th></th>\n",
       "      <th>Status</th>\n",
       "      <th>Text</th>\n",
       "    </tr>\n",
       "  </thead>\n",
       "  <tbody>\n",
       "    <tr>\n",
       "      <th>count</th>\n",
       "      <td>5572</td>\n",
       "      <td>5572</td>\n",
       "    </tr>\n",
       "    <tr>\n",
       "      <th>unique</th>\n",
       "      <td>2</td>\n",
       "      <td>5169</td>\n",
       "    </tr>\n",
       "    <tr>\n",
       "      <th>top</th>\n",
       "      <td>ham</td>\n",
       "      <td>Sorry, I'll call later</td>\n",
       "    </tr>\n",
       "    <tr>\n",
       "      <th>freq</th>\n",
       "      <td>4825</td>\n",
       "      <td>30</td>\n",
       "    </tr>\n",
       "  </tbody>\n",
       "</table>\n",
       "</div>"
      ],
      "text/plain": [
       "       Status                          Text\n",
       "count    5572                          5572\n",
       "unique      2                          5169\n",
       "top       ham  Sorry, I'll call later      \n",
       "freq     4825                            30"
      ]
     },
     "execution_count": 25,
     "metadata": {},
     "output_type": "execute_result"
    }
   ],
   "source": [
    "data.describe()      #to get data description"
   ]
  },
  {
   "cell_type": "markdown",
   "id": "f6d4ffab-ca5d-4b80-94ec-1a85524bd7c9",
   "metadata": {},
   "source": [
    "3.FEATURE EXTRACTION"
   ]
  },
  {
   "cell_type": "code",
   "execution_count": 26,
   "id": "ec4ddc24-17f1-4583-84f1-986271c96895",
   "metadata": {},
   "outputs": [
    {
     "data": {
      "text/html": [
       "<div>\n",
       "<style scoped>\n",
       "    .dataframe tbody tr th:only-of-type {\n",
       "        vertical-align: middle;\n",
       "    }\n",
       "\n",
       "    .dataframe tbody tr th {\n",
       "        vertical-align: top;\n",
       "    }\n",
       "\n",
       "    .dataframe thead th {\n",
       "        text-align: right;\n",
       "    }\n",
       "</style>\n",
       "<table border=\"1\" class=\"dataframe\">\n",
       "  <thead>\n",
       "    <tr style=\"text-align: right;\">\n",
       "      <th></th>\n",
       "      <th>Status</th>\n",
       "      <th>Text</th>\n",
       "    </tr>\n",
       "  </thead>\n",
       "  <tbody>\n",
       "    <tr>\n",
       "      <th>0</th>\n",
       "      <td>0</td>\n",
       "      <td>Go until jurong point, crazy.. Available only ...</td>\n",
       "    </tr>\n",
       "    <tr>\n",
       "      <th>1</th>\n",
       "      <td>0</td>\n",
       "      <td>Ok lar... Joking wif u oni...</td>\n",
       "    </tr>\n",
       "    <tr>\n",
       "      <th>2</th>\n",
       "      <td>1</td>\n",
       "      <td>Free entry in 2 a wkly comp to win FA Cup fina...</td>\n",
       "    </tr>\n",
       "    <tr>\n",
       "      <th>3</th>\n",
       "      <td>0</td>\n",
       "      <td>U dun say so early hor... U c already then say...</td>\n",
       "    </tr>\n",
       "    <tr>\n",
       "      <th>4</th>\n",
       "      <td>0</td>\n",
       "      <td>Nah I don't think he goes to usf, he lives aro...</td>\n",
       "    </tr>\n",
       "    <tr>\n",
       "      <th>...</th>\n",
       "      <td>...</td>\n",
       "      <td>...</td>\n",
       "    </tr>\n",
       "    <tr>\n",
       "      <th>5567</th>\n",
       "      <td>1</td>\n",
       "      <td>This is the 2nd time we have tried 2 contact u...</td>\n",
       "    </tr>\n",
       "    <tr>\n",
       "      <th>5568</th>\n",
       "      <td>0</td>\n",
       "      <td>Will Ì_ b going to esplanade fr home?</td>\n",
       "    </tr>\n",
       "    <tr>\n",
       "      <th>5569</th>\n",
       "      <td>0</td>\n",
       "      <td>Pity, * was in mood for that. So...any other s...</td>\n",
       "    </tr>\n",
       "    <tr>\n",
       "      <th>5570</th>\n",
       "      <td>0</td>\n",
       "      <td>The guy did some bitching but I acted like i'd...</td>\n",
       "    </tr>\n",
       "    <tr>\n",
       "      <th>5571</th>\n",
       "      <td>0</td>\n",
       "      <td>Rofl. Its true to its name</td>\n",
       "    </tr>\n",
       "  </tbody>\n",
       "</table>\n",
       "<p>5572 rows × 2 columns</p>\n",
       "</div>"
      ],
      "text/plain": [
       "      Status                                               Text\n",
       "0          0  Go until jurong point, crazy.. Available only ...\n",
       "1          0                Ok lar... Joking wif u oni...      \n",
       "2          1  Free entry in 2 a wkly comp to win FA Cup fina...\n",
       "3          0  U dun say so early hor... U c already then say...\n",
       "4          0  Nah I don't think he goes to usf, he lives aro...\n",
       "...      ...                                                ...\n",
       "5567       1  This is the 2nd time we have tried 2 contact u...\n",
       "5568       0        Will Ì_ b going to esplanade fr home?      \n",
       "5569       0  Pity, * was in mood for that. So...any other s...\n",
       "5570       0  The guy did some bitching but I acted like i'd...\n",
       "5571       0                   Rofl. Its true to its name      \n",
       "\n",
       "[5572 rows x 2 columns]"
      ]
     },
     "execution_count": 26,
     "metadata": {},
     "output_type": "execute_result"
    }
   ],
   "source": [
    "from sklearn.preprocessing import LabelEncoder   #importing labelencoder from sklearn\n",
    "le = LabelEncoder()                              #initialising  labelencoder\n",
    "data[\"Status\"] = le.fit_transform(data[\"Status\"])  #changing values to numerical labels for status column\n",
    "data\n"
   ]
  },
  {
   "cell_type": "code",
   "execution_count": 27,
   "id": "df272487-8c9d-4d83-af4a-6c2a27c27009",
   "metadata": {},
   "outputs": [],
   "source": [
    "x = data['Text']      #to save independent variable to variable x\n",
    "y = data['Status']    #to save dependent variable to variable y"
   ]
  },
  {
   "cell_type": "markdown",
   "id": "1186bef8-26fa-4f34-981d-9dfb4d203d91",
   "metadata": {},
   "source": [
    "4.MODEL BUILDING - FIT THE TF-IDF VECTORIZER"
   ]
  },
  {
   "cell_type": "code",
   "execution_count": 28,
   "id": "e5717438-1f1d-4fbb-92cd-ea84e2c14329",
   "metadata": {},
   "outputs": [
    {
     "name": "stdout",
     "output_type": "stream",
     "text": [
      "(4457,)\n",
      "(4457,)\n",
      "(1115,)\n",
      "(1115,)\n"
     ]
    }
   ],
   "source": [
    "from sklearn.model_selection import train_test_split          #import train_test_split  from sklearn\n",
    "x_train, x_test, y_train, y_test = train_test_split(x,y, test_size = 0.2,random_state = 42)    #split the data such that 20% data for testing and 80% for training\n",
    "print(x_train.shape)      #check the shape of x_train dataset\n",
    "print(y_train.shape)      #check the shape of y_test dataset\n",
    "print(x_test.shape)       #check the shape of x_test dataset\n",
    "print(y_test.shape)       #check the shape of y_test dataset"
   ]
  },
  {
   "cell_type": "code",
   "execution_count": 29,
   "id": "682e91fa-adde-4d71-86cd-59ac3357a652",
   "metadata": {},
   "outputs": [],
   "source": [
    "from sklearn.feature_extraction.text import TfidfVectorizer                   #import TfidfVectorizer  \n",
    "vectorizer = TfidfVectorizer(stop_words = 'english', max_features = 5000)     #initailise TfidfVectorizer  with 5k features and remove english stopwords\n",
    "x_train_tfidf = vectorizer.fit_transform(x_train)                      #apply fit transform on x_train and initialise to a variable using vectorizer\n",
    "x_test_tfidf = vectorizer.transform(x_test)                          #apply fit transform on x_test and initialise to a variable using vectorizer\n"
   ]
  },
  {
   "cell_type": "markdown",
   "id": "e9fd5b88-4f69-4522-8ea3-4abd8e2d5b4b",
   "metadata": {},
   "source": [
    "5.MODEL BUILDING AND EVALUATION - NAIVE BAYES"
   ]
  },
  {
   "cell_type": "code",
   "execution_count": 30,
   "id": "01b8f055-2640-4232-997b-a0bcdbfa1628",
   "metadata": {},
   "outputs": [],
   "source": [
    "from sklearn.naive_bayes import MultinomialNB   #importing multinomialNB  from sklearn\n",
    "nb_model = MultinomialNB()                      #initialising multinomial_NB  \n",
    "nb_model.fit(x_train_tfidf, y_train)              #fit the multinomailNB  model with train dataset\n",
    "y_pred_nb = nb_model.predict(x_test_tfidf)       #to predict values for test dataset"
   ]
  },
  {
   "cell_type": "code",
   "execution_count": 31,
   "id": "ce380ab5-2013-4962-b604-7fb6e2d7f52d",
   "metadata": {},
   "outputs": [
    {
     "name": "stdout",
     "output_type": "stream",
     "text": [
      "Naive bayes classifier:\n",
      "              precision    recall  f1-score   support\n",
      "\n",
      "           0       0.97      1.00      0.98       965\n",
      "           1       1.00      0.80      0.89       150\n",
      "\n",
      "    accuracy                           0.97      1115\n",
      "   macro avg       0.98      0.90      0.94      1115\n",
      "weighted avg       0.97      0.97      0.97      1115\n",
      "\n",
      "Accuracy: 0.9730941704035875\n"
     ]
    }
   ],
   "source": [
    "from sklearn.metrics import classification_report,accuracy_score #importing metrics from sklearn for classification_report,accuracy_score\n",
    "print(\"Naive bayes classifier:\")                                  #evaluating multinomial naive bayes models\n",
    "print( classification_report(y_test , y_pred_nb))                 #to get classification report\n",
    "print(\"Accuracy:\", accuracy_score(y_test , y_pred_nb))             #to get accuracy score"
   ]
  },
  {
   "cell_type": "markdown",
   "id": "28ee6ae0-47ad-4189-934e-054246054e08",
   "metadata": {},
   "source": [
    "6.MODEL BUILDING AND EVALUATION - LOGISTIC REGRESSION"
   ]
  },
  {
   "cell_type": "code",
   "execution_count": 32,
   "id": "8b35f445-ec6d-4be8-bf6c-b3f8438aac90",
   "metadata": {},
   "outputs": [],
   "source": [
    "from sklearn.linear_model import LogisticRegression #importing LogisticRegression from sklearn\n",
    "lr_model = LogisticRegression()                     #initialising  LogisticRegression \n",
    "lr_model.fit(x_train_tfidf, y_train)                 #fit the LogisticRegression  model with train dataset\n",
    "y_pred_lr = lr_model.predict(x_test_tfidf)          #to predict values for test dataset"
   ]
  },
  {
   "cell_type": "code",
   "execution_count": 33,
   "id": "c165297b-2f25-403b-bb25-cfac29a24a0f",
   "metadata": {},
   "outputs": [
    {
     "name": "stdout",
     "output_type": "stream",
     "text": [
      "\n",
      "LogisticRegression  classifier:\n",
      "              precision    recall  f1-score   support\n",
      "\n",
      "           0       0.97      1.00      0.98       965\n",
      "           1       1.00      0.80      0.89       150\n",
      "\n",
      "    accuracy                           0.97      1115\n",
      "   macro avg       0.98      0.90      0.94      1115\n",
      "weighted avg       0.97      0.97      0.97      1115\n",
      "\n",
      "Accuracy: 0.9730941704035875\n"
     ]
    }
   ],
   "source": [
    "from sklearn.metrics import classification_report,accuracy_score #importing metrics from sklearn for classification_report,accuracy_score\n",
    "print(\"\\nLogisticRegression  classifier:\")                                \n",
    "print( classification_report(y_test , y_pred_nb))                 #to get classification report\n",
    "print(\"Accuracy:\", accuracy_score(y_test , y_pred_nb))             #to get accuracy score"
   ]
  },
  {
   "cell_type": "code",
   "execution_count": 34,
   "id": "05a9eee4-45d7-46e8-a499-6c7f5dadd13c",
   "metadata": {},
   "outputs": [
    {
     "name": "stdout",
     "output_type": "stream",
     "text": [
      "Message: Congratulations! You've won a free vacation to the Bahamas. Call now to claim your prize!\n",
      "\tNaive Bayes Prediction       : spam\n",
      "\tLogistic Regression Prediction: spam\n",
      "====================================================================================================\n",
      "Message: Hey, are we still on for the meeting tomorrow?\n",
      "\tNaive Bayes Prediction       : ham\n",
      "\tLogistic Regression Prediction: ham\n",
      "====================================================================================================\n",
      "Message: You've been selected for a $1000 shopping spree! Click here to claim your gift card!\n",
      "\tNaive Bayes Prediction       : spam\n",
      "\tLogistic Regression Prediction: spam\n",
      "====================================================================================================\n",
      "Message: Can we meet tomorrow?\n",
      "\tNaive Bayes Prediction       : ham\n",
      "\tLogistic Regression Prediction: ham\n",
      "====================================================================================================\n"
     ]
    }
   ],
   "source": [
    "# Messages to be tested on\n",
    "new_messages = [\n",
    "    \"Congratulations! You've won a free vacation to the Bahamas. Call now to claim your prize!\",\n",
    "    \"Hey, are we still on for the meeting tomorrow?\",\n",
    "    \"You've been selected for a $1000 shopping spree! Click here to claim your gift card!\",\n",
    "    \"Can we meet tomorrow?\"\n",
    "]\n",
    "\n",
    "# Transform the new messages to match the training data format\n",
    "new_messages_tfidf = vectorizer.transform(new_messages)\n",
    "\n",
    "# Predict using the Naive Bayes model\n",
    "predictions_nb = nb_model.predict(new_messages_tfidf)\n",
    "\n",
    "# Predict using the Logistic Regression model\n",
    "predictions_lr = lr_model.predict(new_messages_tfidf)\n",
    "\n",
    "# Convert numerical predictions back to labels (0 = ham, 1 = spam)\n",
    "label_map = {0: 'ham', 1: 'spam'}\n",
    "\n",
    "# Print predictions for each message\n",
    "for i, message in enumerate(new_messages):\n",
    "    print(f\"Message: {message}\")\n",
    "    print(f\"\\tNaive Bayes Prediction       : {label_map[predictions_nb[i]]}\")\n",
    "    print(f\"\\tLogistic Regression Prediction: {label_map[predictions_lr[i]]}\")\n",
    "    \n",
    "    print(\"=\" * 100)\n"
   ]
  },
  {
   "cell_type": "code",
   "execution_count": null,
   "id": "1462e7a2-daf2-45f1-aab5-38ffe49ff0c1",
   "metadata": {},
   "outputs": [],
   "source": []
  }
 ],
 "metadata": {
  "kernelspec": {
   "display_name": "Python 3 (ipykernel)",
   "language": "python",
   "name": "python3"
  },
  "language_info": {
   "codemirror_mode": {
    "name": "ipython",
    "version": 3
   },
   "file_extension": ".py",
   "mimetype": "text/x-python",
   "name": "python",
   "nbconvert_exporter": "python",
   "pygments_lexer": "ipython3",
   "version": "3.10.11"
  }
 },
 "nbformat": 4,
 "nbformat_minor": 5
}
